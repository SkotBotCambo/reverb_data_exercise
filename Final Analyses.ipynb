{
 "cells": [
  {
   "cell_type": "markdown",
   "id": "8b2c6580",
   "metadata": {},
   "source": [
    "# Exploratory Data Analysis\n",
    "\n",
    "### Synopsis\n",
    "In this assignment, we’re providing you with data from an experiment our product team ran in 2020. The team wanted to test the impact of loading item pages in a new tab in the user’s browser. A new tab would be triggered any time a user clicked on an item on the site (on the homepage, in search, on comparison shopping pages, etc.).\n",
    "\n",
    "For most experiments at Reverb, we look at a two step conversion funnel, the first step being the event in which the user sees the feature change, and the second being a purchase, and we measure conversion through the funnel within a two day window. Revenue is generally our primary success metric, and we revenue lift by measuring the impact on both conversion rate and average value of those conversions. We generally apply a significance level of 0.1.\n",
    "\n",
    "### Data\n",
    "Attached are two datasets. The first is a dataset of events fired when a user clicked on a listing card. When experiment group = 0, the item page was opened in the same tab, and when experiment group = 1, the item page was opened in a new tab. Each event has an attached cookie id and a reverb user id. These user ids are attached to the data set retroactively, meaning that if we’ve ever associated a user id with a cookie, we’ll add it to the event (even if we tied them together after the event took place). The second dataset is all purchases during the time period.\n",
    "\n",
    "### Task\n",
    "The task is to analyze this experiment using the data provided.\n",
    "\n",
    "Explain your methodology for analyzing the data.\n",
    "\n",
    "Analyze the experiment\n",
    "* Q1: How did conversion rate change?\n",
    "* Q1A: How confident can we be in this answer?   \n",
    "* Q2: How did conversion value change? \n",
    "* Q2A: How confident can we be in this answer?\n",
    "* Q3: Are there any differences in behavior between logged in and logged out users?\n",
    "\n",
    "What is your recommendation for the product team? What’s the estimated impact on revenue?"
   ]
  },
  {
   "cell_type": "code",
   "execution_count": 108,
   "id": "a82cc1f1",
   "metadata": {},
   "outputs": [],
   "source": [
    "import pandas as pd\n",
    "import numpy as np\n",
    "import math\n",
    "import seaborn as sns\n",
    "from tqdm.auto import tqdm\n",
    "import scipy.stats as stats\n",
    "from statsmodels.stats.proportion import proportions_ztest, proportion_confint\n",
    "\n",
    "import matplotlib.pyplot as plt"
   ]
  },
  {
   "cell_type": "code",
   "execution_count": 3,
   "id": "cf80ba05",
   "metadata": {},
   "outputs": [
    {
     "name": "stdout",
     "output_type": "stream",
     "text": [
      "total 192264\r\n",
      "-rw-r--r--@ 1 cambo  staff  14280428 Sep 11 14:41 conversion_data.csv\r\n",
      "-rw-r--r--@ 1 cambo  staff  84154152 Sep 11 14:41 event_data.csv\r\n"
     ]
    }
   ],
   "source": [
    "ls -l ./Reverb_Sr\\ Data\\ Scientist_Data_Exercise"
   ]
  },
  {
   "cell_type": "code",
   "execution_count": 4,
   "id": "058c613f",
   "metadata": {},
   "outputs": [],
   "source": [
    "data_dir = './Reverb_Sr Data Scientist_Data_Exercise/'\n",
    "\n",
    "conversion_df = pd.read_csv('./{}/conversion_data.csv'.format(data_dir))\n",
    "event_df = pd.read_csv('./{}/event_data.csv'.format(data_dir))"
   ]
  },
  {
   "cell_type": "code",
   "execution_count": 5,
   "id": "9d0531f5",
   "metadata": {
    "scrolled": true
   },
   "outputs": [
    {
     "data": {
      "text/html": [
       "<div>\n",
       "<style scoped>\n",
       "    .dataframe tbody tr th:only-of-type {\n",
       "        vertical-align: middle;\n",
       "    }\n",
       "\n",
       "    .dataframe tbody tr th {\n",
       "        vertical-align: top;\n",
       "    }\n",
       "\n",
       "    .dataframe thead th {\n",
       "        text-align: right;\n",
       "    }\n",
       "</style>\n",
       "<table border=\"1\" class=\"dataframe\">\n",
       "  <thead>\n",
       "    <tr style=\"text-align: right;\">\n",
       "      <th></th>\n",
       "      <th>created_at</th>\n",
       "      <th>user_id</th>\n",
       "      <th>order_id</th>\n",
       "      <th>listing_id</th>\n",
       "      <th>revenue</th>\n",
       "    </tr>\n",
       "  </thead>\n",
       "  <tbody>\n",
       "    <tr>\n",
       "      <th>0</th>\n",
       "      <td>2020-08-24 19:05:34.550</td>\n",
       "      <td>1167890</td>\n",
       "      <td>1821377</td>\n",
       "      <td>3967005</td>\n",
       "      <td>4.99</td>\n",
       "    </tr>\n",
       "    <tr>\n",
       "      <th>1</th>\n",
       "      <td>2020-08-14 12:21:24.985</td>\n",
       "      <td>4435269</td>\n",
       "      <td>9241629</td>\n",
       "      <td>35153308</td>\n",
       "      <td>105.00</td>\n",
       "    </tr>\n",
       "    <tr>\n",
       "      <th>2</th>\n",
       "      <td>2020-08-14 23:09:10.231</td>\n",
       "      <td>2077862</td>\n",
       "      <td>9257001</td>\n",
       "      <td>34783182</td>\n",
       "      <td>756.00</td>\n",
       "    </tr>\n",
       "    <tr>\n",
       "      <th>3</th>\n",
       "      <td>2020-08-18 19:15:48.314</td>\n",
       "      <td>2335664</td>\n",
       "      <td>9259453</td>\n",
       "      <td>34319693</td>\n",
       "      <td>359.99</td>\n",
       "    </tr>\n",
       "    <tr>\n",
       "      <th>4</th>\n",
       "      <td>2020-08-17 21:23:46.811</td>\n",
       "      <td>202092</td>\n",
       "      <td>9260633</td>\n",
       "      <td>33685131</td>\n",
       "      <td>180.63</td>\n",
       "    </tr>\n",
       "  </tbody>\n",
       "</table>\n",
       "</div>"
      ],
      "text/plain": [
       "                created_at  user_id  order_id  listing_id  revenue\n",
       "0  2020-08-24 19:05:34.550  1167890   1821377     3967005     4.99\n",
       "1  2020-08-14 12:21:24.985  4435269   9241629    35153308   105.00\n",
       "2  2020-08-14 23:09:10.231  2077862   9257001    34783182   756.00\n",
       "3  2020-08-18 19:15:48.314  2335664   9259453    34319693   359.99\n",
       "4  2020-08-17 21:23:46.811   202092   9260633    33685131   180.63"
      ]
     },
     "execution_count": 5,
     "metadata": {},
     "output_type": "execute_result"
    }
   ],
   "source": [
    "conversion_df.head()"
   ]
  },
  {
   "cell_type": "code",
   "execution_count": 6,
   "id": "f9b8808f",
   "metadata": {},
   "outputs": [
    {
     "data": {
      "text/html": [
       "<div>\n",
       "<style scoped>\n",
       "    .dataframe tbody tr th:only-of-type {\n",
       "        vertical-align: middle;\n",
       "    }\n",
       "\n",
       "    .dataframe tbody tr th {\n",
       "        vertical-align: top;\n",
       "    }\n",
       "\n",
       "    .dataframe thead th {\n",
       "        text-align: right;\n",
       "    }\n",
       "</style>\n",
       "<table border=\"1\" class=\"dataframe\">\n",
       "  <thead>\n",
       "    <tr style=\"text-align: right;\">\n",
       "      <th></th>\n",
       "      <th>created_at</th>\n",
       "      <th>cookie_id</th>\n",
       "      <th>user_id</th>\n",
       "      <th>experiment_group</th>\n",
       "      <th>logged_in</th>\n",
       "      <th>events</th>\n",
       "    </tr>\n",
       "  </thead>\n",
       "  <tbody>\n",
       "    <tr>\n",
       "      <th>0</th>\n",
       "      <td>2020-09-16 17:40:43.692</td>\n",
       "      <td>-9223362196260552664</td>\n",
       "      <td>NaN</td>\n",
       "      <td>0</td>\n",
       "      <td>False</td>\n",
       "      <td>1</td>\n",
       "    </tr>\n",
       "    <tr>\n",
       "      <th>1</th>\n",
       "      <td>2020-09-02 10:34:15.637</td>\n",
       "      <td>-9223332603731817103</td>\n",
       "      <td>NaN</td>\n",
       "      <td>0</td>\n",
       "      <td>False</td>\n",
       "      <td>3</td>\n",
       "    </tr>\n",
       "    <tr>\n",
       "      <th>2</th>\n",
       "      <td>2020-09-04 05:19:53.226</td>\n",
       "      <td>-9223323544648705373</td>\n",
       "      <td>NaN</td>\n",
       "      <td>0</td>\n",
       "      <td>False</td>\n",
       "      <td>4</td>\n",
       "    </tr>\n",
       "    <tr>\n",
       "      <th>3</th>\n",
       "      <td>2020-09-13 17:41:38.381</td>\n",
       "      <td>-9223243877075865587</td>\n",
       "      <td>NaN</td>\n",
       "      <td>0</td>\n",
       "      <td>False</td>\n",
       "      <td>2</td>\n",
       "    </tr>\n",
       "    <tr>\n",
       "      <th>4</th>\n",
       "      <td>2020-08-20 07:23:20.641</td>\n",
       "      <td>-9223238861641533575</td>\n",
       "      <td>NaN</td>\n",
       "      <td>0</td>\n",
       "      <td>False</td>\n",
       "      <td>1</td>\n",
       "    </tr>\n",
       "  </tbody>\n",
       "</table>\n",
       "</div>"
      ],
      "text/plain": [
       "                created_at            cookie_id  user_id  experiment_group  \\\n",
       "0  2020-09-16 17:40:43.692 -9223362196260552664      NaN                 0   \n",
       "1  2020-09-02 10:34:15.637 -9223332603731817103      NaN                 0   \n",
       "2  2020-09-04 05:19:53.226 -9223323544648705373      NaN                 0   \n",
       "3  2020-09-13 17:41:38.381 -9223243877075865587      NaN                 0   \n",
       "4  2020-08-20 07:23:20.641 -9223238861641533575      NaN                 0   \n",
       "\n",
       "   logged_in  events  \n",
       "0      False       1  \n",
       "1      False       3  \n",
       "2      False       4  \n",
       "3      False       2  \n",
       "4      False       1  "
      ]
     },
     "execution_count": 6,
     "metadata": {},
     "output_type": "execute_result"
    }
   ],
   "source": [
    "event_df.head()"
   ]
  },
  {
   "cell_type": "markdown",
   "id": "57d132ef",
   "metadata": {},
   "source": [
    "# Clean and Transform Data"
   ]
  },
  {
   "cell_type": "code",
   "execution_count": 16,
   "id": "19e56bc0",
   "metadata": {},
   "outputs": [
    {
     "data": {
      "text/html": [
       "<div>\n",
       "<style scoped>\n",
       "    .dataframe tbody tr th:only-of-type {\n",
       "        vertical-align: middle;\n",
       "    }\n",
       "\n",
       "    .dataframe tbody tr th {\n",
       "        vertical-align: top;\n",
       "    }\n",
       "\n",
       "    .dataframe thead th {\n",
       "        text-align: right;\n",
       "    }\n",
       "</style>\n",
       "<table border=\"1\" class=\"dataframe\">\n",
       "  <thead>\n",
       "    <tr style=\"text-align: right;\">\n",
       "      <th></th>\n",
       "      <th>event_fired_at</th>\n",
       "      <th>cookie_id</th>\n",
       "      <th>user_id</th>\n",
       "      <th>experiment_group</th>\n",
       "      <th>logged_in</th>\n",
       "      <th>events</th>\n",
       "      <th>purchased_at</th>\n",
       "      <th>order_id</th>\n",
       "      <th>listing_id</th>\n",
       "      <th>revenue</th>\n",
       "      <th>converted</th>\n",
       "    </tr>\n",
       "  </thead>\n",
       "  <tbody>\n",
       "    <tr>\n",
       "      <th>0</th>\n",
       "      <td>2020-08-14 15:31:31.960</td>\n",
       "      <td>-3743295228662505984</td>\n",
       "      <td>5.0</td>\n",
       "      <td>0</td>\n",
       "      <td>True</td>\n",
       "      <td>23</td>\n",
       "      <td>2020-09-03 02:13:25.981</td>\n",
       "      <td>9423992</td>\n",
       "      <td>35591975</td>\n",
       "      <td>65.00</td>\n",
       "      <td>False</td>\n",
       "    </tr>\n",
       "    <tr>\n",
       "      <th>1</th>\n",
       "      <td>2020-08-14 03:49:26.389</td>\n",
       "      <td>1801887607634904279</td>\n",
       "      <td>8.0</td>\n",
       "      <td>0</td>\n",
       "      <td>True</td>\n",
       "      <td>591</td>\n",
       "      <td>2020-09-06 17:46:28.971</td>\n",
       "      <td>9451509</td>\n",
       "      <td>35577739</td>\n",
       "      <td>38.00</td>\n",
       "      <td>False</td>\n",
       "    </tr>\n",
       "    <tr>\n",
       "      <th>2</th>\n",
       "      <td>2020-08-14 03:49:26.389</td>\n",
       "      <td>1801887607634904279</td>\n",
       "      <td>8.0</td>\n",
       "      <td>0</td>\n",
       "      <td>True</td>\n",
       "      <td>591</td>\n",
       "      <td>2020-09-18 12:39:09.772</td>\n",
       "      <td>9540830</td>\n",
       "      <td>34847672</td>\n",
       "      <td>4.99</td>\n",
       "      <td>False</td>\n",
       "    </tr>\n",
       "    <tr>\n",
       "      <th>3</th>\n",
       "      <td>2020-08-14 03:49:26.389</td>\n",
       "      <td>1801887607634904279</td>\n",
       "      <td>8.0</td>\n",
       "      <td>0</td>\n",
       "      <td>True</td>\n",
       "      <td>591</td>\n",
       "      <td>2020-09-21 13:23:49.341</td>\n",
       "      <td>9562822</td>\n",
       "      <td>35869715</td>\n",
       "      <td>200.00</td>\n",
       "      <td>False</td>\n",
       "    </tr>\n",
       "    <tr>\n",
       "      <th>4</th>\n",
       "      <td>2020-08-14 03:49:26.389</td>\n",
       "      <td>1801887607634904279</td>\n",
       "      <td>8.0</td>\n",
       "      <td>0</td>\n",
       "      <td>True</td>\n",
       "      <td>591</td>\n",
       "      <td>2020-09-18 17:38:58.277</td>\n",
       "      <td>9543011</td>\n",
       "      <td>35825399</td>\n",
       "      <td>95.00</td>\n",
       "      <td>False</td>\n",
       "    </tr>\n",
       "  </tbody>\n",
       "</table>\n",
       "</div>"
      ],
      "text/plain": [
       "           event_fired_at            cookie_id  user_id  experiment_group  \\\n",
       "0 2020-08-14 15:31:31.960 -3743295228662505984      5.0                 0   \n",
       "1 2020-08-14 03:49:26.389  1801887607634904279      8.0                 0   \n",
       "2 2020-08-14 03:49:26.389  1801887607634904279      8.0                 0   \n",
       "3 2020-08-14 03:49:26.389  1801887607634904279      8.0                 0   \n",
       "4 2020-08-14 03:49:26.389  1801887607634904279      8.0                 0   \n",
       "\n",
       "   logged_in  events            purchased_at  order_id  listing_id  revenue  \\\n",
       "0       True      23 2020-09-03 02:13:25.981   9423992    35591975    65.00   \n",
       "1       True     591 2020-09-06 17:46:28.971   9451509    35577739    38.00   \n",
       "2       True     591 2020-09-18 12:39:09.772   9540830    34847672     4.99   \n",
       "3       True     591 2020-09-21 13:23:49.341   9562822    35869715   200.00   \n",
       "4       True     591 2020-09-18 17:38:58.277   9543011    35825399    95.00   \n",
       "\n",
       "   converted  \n",
       "0      False  \n",
       "1      False  \n",
       "2      False  \n",
       "3      False  \n",
       "4      False  "
      ]
     },
     "execution_count": 16,
     "metadata": {},
     "output_type": "execute_result"
    }
   ],
   "source": [
    "# use only events from users that we have a user_id for\n",
    "tracked_event_df = event_df[~event_df['user_id'].isnull()]\n",
    "\n",
    "# rename created_at columns for easier reference and convert to datetime\n",
    "tracked_event_df = tracked_event_df.rename(columns={'created_at':'event_fired_at'})\n",
    "tracked_event_df['event_fired_at'] = pd.to_datetime(tracked_event_df['event_fired_at'])\n",
    "conversion_df = conversion_df.rename(columns={'created_at':'purchased_at'})\n",
    "conversion_df['purchased_at'] = pd.to_datetime(conversion_df['purchased_at'])"
   ]
  },
  {
   "cell_type": "markdown",
   "id": "151a15d7",
   "metadata": {},
   "source": [
    "# Merge dataframes"
   ]
  },
  {
   "cell_type": "code",
   "execution_count": 27,
   "id": "1d98876a",
   "metadata": {},
   "outputs": [
    {
     "data": {
      "text/html": [
       "<div>\n",
       "<style scoped>\n",
       "    .dataframe tbody tr th:only-of-type {\n",
       "        vertical-align: middle;\n",
       "    }\n",
       "\n",
       "    .dataframe tbody tr th {\n",
       "        vertical-align: top;\n",
       "    }\n",
       "\n",
       "    .dataframe thead th {\n",
       "        text-align: right;\n",
       "    }\n",
       "</style>\n",
       "<table border=\"1\" class=\"dataframe\">\n",
       "  <thead>\n",
       "    <tr style=\"text-align: right;\">\n",
       "      <th></th>\n",
       "      <th>event_fired_at</th>\n",
       "      <th>cookie_id</th>\n",
       "      <th>user_id</th>\n",
       "      <th>experiment_group</th>\n",
       "      <th>logged_in</th>\n",
       "      <th>events</th>\n",
       "      <th>purchased_at</th>\n",
       "      <th>order_id</th>\n",
       "      <th>listing_id</th>\n",
       "      <th>revenue</th>\n",
       "      <th>converted</th>\n",
       "    </tr>\n",
       "  </thead>\n",
       "  <tbody>\n",
       "    <tr>\n",
       "      <th>0</th>\n",
       "      <td>2020-08-14 15:31:31.960</td>\n",
       "      <td>-3743295228662505984</td>\n",
       "      <td>5.0</td>\n",
       "      <td>0</td>\n",
       "      <td>True</td>\n",
       "      <td>23</td>\n",
       "      <td>2020-09-03 02:13:25.981</td>\n",
       "      <td>9423992</td>\n",
       "      <td>35591975</td>\n",
       "      <td>65.00</td>\n",
       "      <td>False</td>\n",
       "    </tr>\n",
       "    <tr>\n",
       "      <th>1</th>\n",
       "      <td>2020-08-14 03:49:26.389</td>\n",
       "      <td>1801887607634904279</td>\n",
       "      <td>8.0</td>\n",
       "      <td>0</td>\n",
       "      <td>True</td>\n",
       "      <td>591</td>\n",
       "      <td>2020-09-06 17:46:28.971</td>\n",
       "      <td>9451509</td>\n",
       "      <td>35577739</td>\n",
       "      <td>38.00</td>\n",
       "      <td>False</td>\n",
       "    </tr>\n",
       "    <tr>\n",
       "      <th>2</th>\n",
       "      <td>2020-08-14 03:49:26.389</td>\n",
       "      <td>1801887607634904279</td>\n",
       "      <td>8.0</td>\n",
       "      <td>0</td>\n",
       "      <td>True</td>\n",
       "      <td>591</td>\n",
       "      <td>2020-09-18 12:39:09.772</td>\n",
       "      <td>9540830</td>\n",
       "      <td>34847672</td>\n",
       "      <td>4.99</td>\n",
       "      <td>False</td>\n",
       "    </tr>\n",
       "    <tr>\n",
       "      <th>3</th>\n",
       "      <td>2020-08-14 03:49:26.389</td>\n",
       "      <td>1801887607634904279</td>\n",
       "      <td>8.0</td>\n",
       "      <td>0</td>\n",
       "      <td>True</td>\n",
       "      <td>591</td>\n",
       "      <td>2020-09-21 13:23:49.341</td>\n",
       "      <td>9562822</td>\n",
       "      <td>35869715</td>\n",
       "      <td>200.00</td>\n",
       "      <td>False</td>\n",
       "    </tr>\n",
       "    <tr>\n",
       "      <th>4</th>\n",
       "      <td>2020-08-14 03:49:26.389</td>\n",
       "      <td>1801887607634904279</td>\n",
       "      <td>8.0</td>\n",
       "      <td>0</td>\n",
       "      <td>True</td>\n",
       "      <td>591</td>\n",
       "      <td>2020-09-18 17:38:58.277</td>\n",
       "      <td>9543011</td>\n",
       "      <td>35825399</td>\n",
       "      <td>95.00</td>\n",
       "      <td>False</td>\n",
       "    </tr>\n",
       "  </tbody>\n",
       "</table>\n",
       "</div>"
      ],
      "text/plain": [
       "           event_fired_at            cookie_id  user_id  experiment_group  \\\n",
       "0 2020-08-14 15:31:31.960 -3743295228662505984      5.0                 0   \n",
       "1 2020-08-14 03:49:26.389  1801887607634904279      8.0                 0   \n",
       "2 2020-08-14 03:49:26.389  1801887607634904279      8.0                 0   \n",
       "3 2020-08-14 03:49:26.389  1801887607634904279      8.0                 0   \n",
       "4 2020-08-14 03:49:26.389  1801887607634904279      8.0                 0   \n",
       "\n",
       "   logged_in  events            purchased_at  order_id  listing_id  revenue  \\\n",
       "0       True      23 2020-09-03 02:13:25.981   9423992    35591975    65.00   \n",
       "1       True     591 2020-09-06 17:46:28.971   9451509    35577739    38.00   \n",
       "2       True     591 2020-09-18 12:39:09.772   9540830    34847672     4.99   \n",
       "3       True     591 2020-09-21 13:23:49.341   9562822    35869715   200.00   \n",
       "4       True     591 2020-09-18 17:38:58.277   9543011    35825399    95.00   \n",
       "\n",
       "   converted  \n",
       "0      False  \n",
       "1      False  \n",
       "2      False  \n",
       "3      False  \n",
       "4      False  "
      ]
     },
     "execution_count": 27,
     "metadata": {},
     "output_type": "execute_result"
    }
   ],
   "source": [
    "# merge dataframes\n",
    "df = pd.merge(tracked_event_df, conversion_df, left_on='user_id', right_on='user_id')\n",
    "\n",
    "# determine conversion\n",
    "df['converted'] = df['purchased_at'].between(df['event_fired_at'],\n",
    "                                            df['event_fired_at'] + pd.Timedelta(2, 'd'))\n",
    "df.head()"
   ]
  },
  {
   "cell_type": "markdown",
   "id": "a445eee9",
   "metadata": {},
   "source": [
    "# Does the data show visitors purchasing more than one item?"
   ]
  },
  {
   "cell_type": "code",
   "execution_count": 38,
   "id": "1e09a515",
   "metadata": {},
   "outputs": [
    {
     "data": {
      "text/plain": [
       "1      46249\n",
       "2      12343\n",
       "3       5130\n",
       "4       2692\n",
       "5       1540\n",
       "       ...  \n",
       "121        1\n",
       "127        1\n",
       "153        1\n",
       "168        1\n",
       "181        1\n",
       "Length: 64, dtype: int64"
      ]
     },
     "execution_count": 38,
     "metadata": {},
     "output_type": "execute_result"
    }
   ],
   "source": [
    "user_grouped = df.groupby('user_id')\n",
    "user_grouped.size().value_counts().sort_index()"
   ]
  },
  {
   "cell_type": "markdown",
   "id": "a8fa49a7",
   "metadata": {},
   "source": [
    "absolutely, but..."
   ]
  },
  {
   "cell_type": "code",
   "execution_count": 50,
   "id": "1ab9cc76",
   "metadata": {
    "scrolled": true
   },
   "outputs": [
    {
     "data": {
      "text/html": [
       "<div>\n",
       "<style scoped>\n",
       "    .dataframe tbody tr th:only-of-type {\n",
       "        vertical-align: middle;\n",
       "    }\n",
       "\n",
       "    .dataframe tbody tr th {\n",
       "        vertical-align: top;\n",
       "    }\n",
       "\n",
       "    .dataframe thead th {\n",
       "        text-align: right;\n",
       "    }\n",
       "</style>\n",
       "<table border=\"1\" class=\"dataframe\">\n",
       "  <thead>\n",
       "    <tr style=\"text-align: right;\">\n",
       "      <th></th>\n",
       "      <th>event_fired_at</th>\n",
       "      <th>cookie_id</th>\n",
       "      <th>user_id</th>\n",
       "      <th>experiment_group</th>\n",
       "      <th>logged_in</th>\n",
       "      <th>events</th>\n",
       "      <th>purchased_at</th>\n",
       "      <th>order_id</th>\n",
       "      <th>listing_id</th>\n",
       "      <th>revenue</th>\n",
       "      <th>converted</th>\n",
       "    </tr>\n",
       "  </thead>\n",
       "  <tbody>\n",
       "    <tr>\n",
       "      <th>69026</th>\n",
       "      <td>2020-08-15 17:53:05.602</td>\n",
       "      <td>8120778930691635636</td>\n",
       "      <td>5303450.0</td>\n",
       "      <td>0</td>\n",
       "      <td>False</td>\n",
       "      <td>230</td>\n",
       "      <td>2020-08-25 22:22:11.782</td>\n",
       "      <td>9360379</td>\n",
       "      <td>1433954</td>\n",
       "      <td>51.96</td>\n",
       "      <td>False</td>\n",
       "    </tr>\n",
       "    <tr>\n",
       "      <th>69027</th>\n",
       "      <td>2020-08-15 17:53:05.602</td>\n",
       "      <td>8120778930691635636</td>\n",
       "      <td>5303450.0</td>\n",
       "      <td>0</td>\n",
       "      <td>False</td>\n",
       "      <td>230</td>\n",
       "      <td>2020-09-18 21:29:48.543</td>\n",
       "      <td>9544731</td>\n",
       "      <td>35452502</td>\n",
       "      <td>25.99</td>\n",
       "      <td>False</td>\n",
       "    </tr>\n",
       "    <tr>\n",
       "      <th>69028</th>\n",
       "      <td>2020-08-15 17:53:05.602</td>\n",
       "      <td>8120778930691635636</td>\n",
       "      <td>5303450.0</td>\n",
       "      <td>0</td>\n",
       "      <td>False</td>\n",
       "      <td>230</td>\n",
       "      <td>2020-08-22 02:43:04.914</td>\n",
       "      <td>9331632</td>\n",
       "      <td>35331187</td>\n",
       "      <td>1000.00</td>\n",
       "      <td>False</td>\n",
       "    </tr>\n",
       "    <tr>\n",
       "      <th>69029</th>\n",
       "      <td>2020-08-15 17:53:05.602</td>\n",
       "      <td>8120778930691635636</td>\n",
       "      <td>5303450.0</td>\n",
       "      <td>0</td>\n",
       "      <td>False</td>\n",
       "      <td>230</td>\n",
       "      <td>2020-09-04 01:33:22.816</td>\n",
       "      <td>9432177</td>\n",
       "      <td>35519549</td>\n",
       "      <td>100.00</td>\n",
       "      <td>False</td>\n",
       "    </tr>\n",
       "    <tr>\n",
       "      <th>69030</th>\n",
       "      <td>2020-08-15 17:53:05.602</td>\n",
       "      <td>8120778930691635636</td>\n",
       "      <td>5303450.0</td>\n",
       "      <td>0</td>\n",
       "      <td>False</td>\n",
       "      <td>230</td>\n",
       "      <td>2020-08-31 00:21:34.373</td>\n",
       "      <td>9399637</td>\n",
       "      <td>35459950</td>\n",
       "      <td>1250.00</td>\n",
       "      <td>False</td>\n",
       "    </tr>\n",
       "  </tbody>\n",
       "</table>\n",
       "</div>"
      ],
      "text/plain": [
       "               event_fired_at            cookie_id    user_id  \\\n",
       "69026 2020-08-15 17:53:05.602  8120778930691635636  5303450.0   \n",
       "69027 2020-08-15 17:53:05.602  8120778930691635636  5303450.0   \n",
       "69028 2020-08-15 17:53:05.602  8120778930691635636  5303450.0   \n",
       "69029 2020-08-15 17:53:05.602  8120778930691635636  5303450.0   \n",
       "69030 2020-08-15 17:53:05.602  8120778930691635636  5303450.0   \n",
       "\n",
       "       experiment_group  logged_in  events            purchased_at  order_id  \\\n",
       "69026                 0      False     230 2020-08-25 22:22:11.782   9360379   \n",
       "69027                 0      False     230 2020-09-18 21:29:48.543   9544731   \n",
       "69028                 0      False     230 2020-08-22 02:43:04.914   9331632   \n",
       "69029                 0      False     230 2020-09-04 01:33:22.816   9432177   \n",
       "69030                 0      False     230 2020-08-31 00:21:34.373   9399637   \n",
       "\n",
       "       listing_id  revenue  converted  \n",
       "69026     1433954    51.96      False  \n",
       "69027    35452502    25.99      False  \n",
       "69028    35331187  1000.00      False  \n",
       "69029    35519549   100.00      False  \n",
       "69030    35459950  1250.00      False  "
      ]
     },
     "execution_count": 50,
     "metadata": {},
     "output_type": "execute_result"
    }
   ],
   "source": [
    "user_df = user_grouped.get_group(5303450.0)\n",
    "user_df"
   ]
  },
  {
   "cell_type": "code",
   "execution_count": 51,
   "id": "98106fec",
   "metadata": {},
   "outputs": [
    {
     "data": {
      "text/plain": [
       "False"
      ]
     },
     "execution_count": 51,
     "metadata": {},
     "output_type": "execute_result"
    }
   ],
   "source": [
    "user_df['converted'].any()"
   ]
  },
  {
   "cell_type": "markdown",
   "id": "4ed283cb",
   "metadata": {},
   "source": [
    "Yes, this means that, for each user that did purchase something within the 2 day window, we'll want to sum their revenue to understand the total, but filter out everything else.\n",
    "\n",
    "For those who did not make a purchase during that time, we'll want to set revenue = 0 and maintain that they were not \"converted\""
   ]
  },
  {
   "cell_type": "code",
   "execution_count": 54,
   "id": "c14d5ec6",
   "metadata": {},
   "outputs": [
    {
     "data": {
      "application/vnd.jupyter.widget-view+json": {
       "model_id": "6c4cf8ce08fa425ab52e041ea7bb780a",
       "version_major": 2,
       "version_minor": 0
      },
      "text/plain": [
       "  0%|          | 0/71443 [00:00<?, ?it/s]"
      ]
     },
     "metadata": {},
     "output_type": "display_data"
    }
   ],
   "source": [
    "results = []\n",
    "\n",
    "# collapse data per the thinking above\n",
    "for user_id, user_df in tqdm(user_grouped):\n",
    "    # did user ever purchase something in that time window?\n",
    "    converted = user_df['converted'].any()\n",
    "    \n",
    "    if converted:\n",
    "        revenue = user_df[user_df['converted']]['revenue'].sum()\n",
    "    else:\n",
    "        revenue = 0\n",
    "        \n",
    "    result = {'user_id':user_id,\n",
    "              'total_revenue':revenue,\n",
    "              'experiment_group':user_df['experiment_group'].iloc[0],\n",
    "              'converted':converted,\n",
    "              }\n",
    "    results.append(result)\n",
    "    \n",
    "r_df = pd.DataFrame(results)"
   ]
  },
  {
   "cell_type": "markdown",
   "id": "c9285b54",
   "metadata": {},
   "source": [
    "Note: I'll want to reformat this dataframe when thinking about logged in/out users"
   ]
  },
  {
   "cell_type": "markdown",
   "id": "6e4ee348",
   "metadata": {},
   "source": [
    "An additional note is that it seems that about 141,445 users made purchases during this time and 301,542 were included in this experiment, but only 71,443 users made purchases AND were in the experiment"
   ]
  },
  {
   "cell_type": "markdown",
   "id": "70820aeb",
   "metadata": {},
   "source": [
    "For much of this notebook, I will be following this kind of decision tree to determine which test I will use which came from a really helpful [blog post on A/B testing](https://towardsdatascience.com/a-b-testing-a-complete-guide-to-statistical-testing-e3f1db140499)\n",
    "\n",
    "![Statistical Test Decision Tree](https://miro.medium.com/max/700/1*Vzkwzrs4DOmBBa1LymW-PQ.png)\n",
    "\n",
    "Given that the number of users represented in this dataset is > 1000 (71,443)"
   ]
  },
  {
   "cell_type": "markdown",
   "id": "8f795b19",
   "metadata": {},
   "source": [
    "# Q1: How did the *conversion rate* change?"
   ]
  },
  {
   "cell_type": "code",
   "execution_count": 74,
   "id": "219be5e3",
   "metadata": {},
   "outputs": [
    {
     "data": {
      "text/html": [
       "<div>\n",
       "<style scoped>\n",
       "    .dataframe tbody tr th:only-of-type {\n",
       "        vertical-align: middle;\n",
       "    }\n",
       "\n",
       "    .dataframe tbody tr th {\n",
       "        vertical-align: top;\n",
       "    }\n",
       "\n",
       "    .dataframe thead th {\n",
       "        text-align: right;\n",
       "    }\n",
       "</style>\n",
       "<table border=\"1\" class=\"dataframe\">\n",
       "  <thead>\n",
       "    <tr style=\"text-align: right;\">\n",
       "      <th></th>\n",
       "      <th>conversion_rate</th>\n",
       "      <th>std_dev</th>\n",
       "    </tr>\n",
       "    <tr>\n",
       "      <th>experiment_group</th>\n",
       "      <th></th>\n",
       "      <th></th>\n",
       "    </tr>\n",
       "  </thead>\n",
       "  <tbody>\n",
       "    <tr>\n",
       "      <th>0</th>\n",
       "      <td>0.382096</td>\n",
       "      <td>0.485907</td>\n",
       "    </tr>\n",
       "    <tr>\n",
       "      <th>1</th>\n",
       "      <td>0.389880</td>\n",
       "      <td>0.487730</td>\n",
       "    </tr>\n",
       "  </tbody>\n",
       "</table>\n",
       "</div>"
      ],
      "text/plain": [
       "                  conversion_rate   std_dev\n",
       "experiment_group                           \n",
       "0                        0.382096  0.485907\n",
       "1                        0.389880  0.487730"
      ]
     },
     "execution_count": 74,
     "metadata": {},
     "output_type": "execute_result"
    }
   ],
   "source": [
    "conv_df = r_df.groupby('experiment_group').agg({'converted':['mean','std']})\n",
    "conv_df.columns = ['conversion_rate', 'std_dev']\n",
    "conv_df"
   ]
  },
  {
   "cell_type": "code",
   "execution_count": 75,
   "id": "53a74cf1",
   "metadata": {},
   "outputs": [
    {
     "data": {
      "text/plain": [
       "conversion_rate    0.007784\n",
       "std_dev            0.001823\n",
       "dtype: float64"
      ]
     },
     "execution_count": 75,
     "metadata": {},
     "output_type": "execute_result"
    }
   ],
   "source": [
    "conv_df.loc[1] - conv_df.loc[0]"
   ]
  },
  {
   "cell_type": "markdown",
   "id": "fc4e2c10",
   "metadata": {},
   "source": [
    "What we see here is that the conversion rates are generally prett close, though the conversion rate for the treatment group, the group that saw the new feature, was **0.77\\% higher** than the control group that did not see the new feature."
   ]
  },
  {
   "cell_type": "markdown",
   "id": "0302f714",
   "metadata": {},
   "source": [
    "## Q1A: How confident can we be in this answer?\n",
    "To answer this question, we'll follow the diagram above and use a **Pearson's Chi-squared test**, because conversions are a discrete value, one either converted or they did not. "
   ]
  },
  {
   "cell_type": "code",
   "execution_count": 78,
   "id": "a7e205c5",
   "metadata": {},
   "outputs": [
    {
     "data": {
      "text/html": [
       "<div>\n",
       "<style scoped>\n",
       "    .dataframe tbody tr th:only-of-type {\n",
       "        vertical-align: middle;\n",
       "    }\n",
       "\n",
       "    .dataframe tbody tr th {\n",
       "        vertical-align: top;\n",
       "    }\n",
       "\n",
       "    .dataframe thead th {\n",
       "        text-align: right;\n",
       "    }\n",
       "</style>\n",
       "<table border=\"1\" class=\"dataframe\">\n",
       "  <thead>\n",
       "    <tr style=\"text-align: right;\">\n",
       "      <th>experiment_group</th>\n",
       "      <th>0</th>\n",
       "      <th>1</th>\n",
       "    </tr>\n",
       "    <tr>\n",
       "      <th>converted</th>\n",
       "      <th></th>\n",
       "      <th></th>\n",
       "    </tr>\n",
       "  </thead>\n",
       "  <tbody>\n",
       "    <tr>\n",
       "      <th>False</th>\n",
       "      <td>21846</td>\n",
       "      <td>22018</td>\n",
       "    </tr>\n",
       "    <tr>\n",
       "      <th>True</th>\n",
       "      <td>13509</td>\n",
       "      <td>14070</td>\n",
       "    </tr>\n",
       "  </tbody>\n",
       "</table>\n",
       "</div>"
      ],
      "text/plain": [
       "experiment_group      0      1\n",
       "converted                     \n",
       "False             21846  22018\n",
       "True              13509  14070"
      ]
     },
     "execution_count": 78,
     "metadata": {},
     "output_type": "execute_result"
    }
   ],
   "source": [
    "ct_df = pd.crosstab(r_df['experiment_group'], r_df['converted'])\n",
    "cont_table = ct_df.T\n",
    "cont_table.head()"
   ]
  },
  {
   "cell_type": "code",
   "execution_count": 83,
   "id": "139496b6",
   "metadata": {},
   "outputs": [
    {
     "name": "stdout",
     "output_type": "stream",
     "text": [
      "- Pearson's chi-squared t-test:\n",
      "   - χ2 value: 4.566\n",
      "   - p-value: 0.0326\n"
     ]
    }
   ],
   "source": [
    "chi2_val, p_val = stats.chi2_contingency(cont_table, correction=False)[:2]\n",
    "\n",
    "\n",
    "print(\"- Pearson's chi-squared t-test:\")\n",
    "print(f\"   - χ2 value: {chi2_val:.3f}\")\n",
    "print(f\"   - p-value: {p_val:.4f}\")"
   ]
  },
  {
   "cell_type": "markdown",
   "id": "8bc802d1",
   "metadata": {},
   "source": [
    "With a significance level of 0.1, we can say that we'll reject the null hypothesis that there is no difference between those who were in the treatment group and those who were in the control group.\n",
    "\n",
    "This means that we have evidence to support that the website change will result in a **higher conversion rate**, but does this mean more revenue over all?"
   ]
  },
  {
   "cell_type": "markdown",
   "id": "5dbceb74",
   "metadata": {},
   "source": [
    "# Q2: How did *conversion value* change?"
   ]
  },
  {
   "cell_type": "code",
   "execution_count": 88,
   "id": "f799cc45",
   "metadata": {},
   "outputs": [
    {
     "data": {
      "text/html": [
       "<div>\n",
       "<style scoped>\n",
       "    .dataframe tbody tr th:only-of-type {\n",
       "        vertical-align: middle;\n",
       "    }\n",
       "\n",
       "    .dataframe tbody tr th {\n",
       "        vertical-align: top;\n",
       "    }\n",
       "\n",
       "    .dataframe thead tr th {\n",
       "        text-align: left;\n",
       "    }\n",
       "\n",
       "    .dataframe thead tr:last-of-type th {\n",
       "        text-align: right;\n",
       "    }\n",
       "</style>\n",
       "<table border=\"1\" class=\"dataframe\">\n",
       "  <thead>\n",
       "    <tr>\n",
       "      <th></th>\n",
       "      <th colspan=\"2\" halign=\"left\">total_revenue</th>\n",
       "    </tr>\n",
       "    <tr>\n",
       "      <th></th>\n",
       "      <th>mean</th>\n",
       "      <th>std</th>\n",
       "    </tr>\n",
       "    <tr>\n",
       "      <th>experiment_group</th>\n",
       "      <th></th>\n",
       "      <th></th>\n",
       "    </tr>\n",
       "  </thead>\n",
       "  <tbody>\n",
       "    <tr>\n",
       "      <th>0</th>\n",
       "      <td>159.993679</td>\n",
       "      <td>479.911560</td>\n",
       "    </tr>\n",
       "    <tr>\n",
       "      <th>1</th>\n",
       "      <td>191.350091</td>\n",
       "      <td>4317.025083</td>\n",
       "    </tr>\n",
       "  </tbody>\n",
       "</table>\n",
       "</div>"
      ],
      "text/plain": [
       "                 total_revenue             \n",
       "                          mean          std\n",
       "experiment_group                           \n",
       "0                   159.993679   479.911560\n",
       "1                   191.350091  4317.025083"
      ]
     },
     "execution_count": 88,
     "metadata": {},
     "output_type": "execute_result"
    }
   ],
   "source": [
    "conv_val_df = r_df.groupby('experiment_group').agg({'total_revenue':['mean','std']})\n",
    "conv_val_df"
   ]
  },
  {
   "cell_type": "code",
   "execution_count": 93,
   "id": "6d7f9d68",
   "metadata": {},
   "outputs": [
    {
     "name": "stdout",
     "output_type": "stream",
     "text": [
      "The treatment group spent an average of $31.36 more than the control group\n"
     ]
    }
   ],
   "source": [
    "total_rev_diff = conv_val_df.loc[1][('total_revenue','mean')] - conv_val_df.loc[0][('total_revenue','mean')]\n",
    "print(f'The treatment group spent an average of ${total_rev_diff:.2f} more than the control group')"
   ]
  },
  {
   "cell_type": "markdown",
   "id": "890136d9",
   "metadata": {},
   "source": [
    "The answer here is yes... but the huge variance among those who were in the treatment group is suspicious. \n",
    "We are definitely going to need to assess our confidence in that answer.\n",
    "\n",
    "For this, I decided to use [*Welch's t-test*](https://en.wikipedia.org/wiki/Welch%27s_t-test) to measure the difference for the following reasons:\n",
    "* The values are continuous\n",
    "* We have a very large sample\n",
    "* We don't know the population variance\n",
    "* We do know the sample variance, BUT they are very dissimilar between the two groups (479.9 vs. 4317.03)"
   ]
  },
  {
   "cell_type": "code",
   "execution_count": 113,
   "id": "354c4c48",
   "metadata": {},
   "outputs": [
    {
     "name": "stdout",
     "output_type": "stream",
     "text": [
      "t-statistic = 1.37120\n",
      "p-value = 0.17032\n"
     ]
    }
   ],
   "source": [
    "treatment_group_rev = r_df[r_df['experiment_group']==1]['total_revenue']\n",
    "control_group_rev =r_df[r_df['experiment_group']==0]['total_revenue']\n",
    "\n",
    "t_stat, p_val = stats.ttest_ind(treatment_group_rev, control_group_rev, equal_var=False)\n",
    "print(f't-statistic = {t_stat:0.5f}')\n",
    "print(f'p-value = {p_val:0.5f}')"
   ]
  },
  {
   "cell_type": "markdown",
   "id": "7735e423",
   "metadata": {},
   "source": [
    "While the t-statistic confirms that the numbers are slightly higher, the p-value challenges this by telling us that we've failed to meet the criteria for rejecting the null hypothesis.\n",
    "\n",
    "So, ***there is no significant difference*** between the revenue earned by those in the treatment group and those in the control group"
   ]
  },
  {
   "cell_type": "markdown",
   "id": "f48102b9",
   "metadata": {},
   "source": [
    "# Q3: Are there any differences in behavior between logged in and logged out users?\n",
    "\n",
    "I'll consider this question, independent of whether they were in the control or treatment group"
   ]
  },
  {
   "cell_type": "markdown",
   "id": "f8faa943",
   "metadata": {},
   "source": [
    "My first question is, do we have data that shows the same user making purchase both logged in AND logged out?"
   ]
  },
  {
   "cell_type": "code",
   "execution_count": 116,
   "id": "36285b68",
   "metadata": {
    "scrolled": true
   },
   "outputs": [
    {
     "data": {
      "text/plain": [
       "logged_in\n",
       "1.0          39153\n",
       "0.0          32290\n",
       "dtype: int64"
      ]
     },
     "execution_count": 116,
     "metadata": {},
     "output_type": "execute_result"
    }
   ],
   "source": [
    "df.groupby('user_id').agg({'logged_in':np.mean}).value_counts()"
   ]
  },
  {
   "cell_type": "markdown",
   "id": "ab2fbd8c",
   "metadata": {},
   "source": [
    "No, all of the data indicates that users are EITHER logged in or logged out. Great, this makes our analysis easier from now on."
   ]
  },
  {
   "cell_type": "code",
   "execution_count": 118,
   "id": "852d5f80",
   "metadata": {},
   "outputs": [
    {
     "data": {
      "application/vnd.jupyter.widget-view+json": {
       "model_id": "a75fafd760a8495680cac87e792eb4e0",
       "version_major": 2,
       "version_minor": 0
      },
      "text/plain": [
       "  0%|          | 0/71443 [00:00<?, ?it/s]"
      ]
     },
     "metadata": {},
     "output_type": "display_data"
    }
   ],
   "source": [
    "results = []\n",
    "\n",
    "# collapse data per the thinking above\n",
    "for user_id, user_df in tqdm(user_grouped):\n",
    "    # did user ever purchase something in that time window?\n",
    "    converted = user_df['converted'].any()\n",
    "    \n",
    "    if converted:\n",
    "        revenue = user_df[user_df['converted']]['revenue'].sum()\n",
    "    else:\n",
    "        revenue = 0\n",
    "        \n",
    "    result = {'user_id':user_id,\n",
    "              'total_revenue':revenue,\n",
    "              'experiment_group':user_df['experiment_group'].iloc[0],\n",
    "              'logged_in':user_df['logged_in'].iloc[0],\n",
    "              'converted':converted,\n",
    "              }\n",
    "    results.append(result)\n",
    "    \n",
    "r_df = pd.DataFrame(results)"
   ]
  },
  {
   "cell_type": "markdown",
   "id": "610fc719",
   "metadata": {},
   "source": [
    "### First, let's look at conversion rate"
   ]
  },
  {
   "cell_type": "code",
   "execution_count": 122,
   "id": "be452d7a",
   "metadata": {},
   "outputs": [
    {
     "data": {
      "text/html": [
       "<div>\n",
       "<style scoped>\n",
       "    .dataframe tbody tr th:only-of-type {\n",
       "        vertical-align: middle;\n",
       "    }\n",
       "\n",
       "    .dataframe tbody tr th {\n",
       "        vertical-align: top;\n",
       "    }\n",
       "\n",
       "    .dataframe thead th {\n",
       "        text-align: right;\n",
       "    }\n",
       "</style>\n",
       "<table border=\"1\" class=\"dataframe\">\n",
       "  <thead>\n",
       "    <tr style=\"text-align: right;\">\n",
       "      <th></th>\n",
       "      <th>conversion_rate</th>\n",
       "      <th>std_dev</th>\n",
       "    </tr>\n",
       "    <tr>\n",
       "      <th>logged_in</th>\n",
       "      <th></th>\n",
       "      <th></th>\n",
       "    </tr>\n",
       "  </thead>\n",
       "  <tbody>\n",
       "    <tr>\n",
       "      <th>False</th>\n",
       "      <td>0.503995</td>\n",
       "      <td>0.499992</td>\n",
       "    </tr>\n",
       "    <tr>\n",
       "      <th>True</th>\n",
       "      <td>0.288739</td>\n",
       "      <td>0.453182</td>\n",
       "    </tr>\n",
       "  </tbody>\n",
       "</table>\n",
       "</div>"
      ],
      "text/plain": [
       "           conversion_rate   std_dev\n",
       "logged_in                           \n",
       "False             0.503995  0.499992\n",
       "True              0.288739  0.453182"
      ]
     },
     "execution_count": 122,
     "metadata": {},
     "output_type": "execute_result"
    }
   ],
   "source": [
    "conv_df = r_df.groupby('logged_in').agg({'converted':['mean','std']})\n",
    "conv_df.columns = ['conversion_rate', 'std_dev']\n",
    "conv_df"
   ]
  },
  {
   "cell_type": "code",
   "execution_count": 124,
   "id": "5aeafc19",
   "metadata": {},
   "outputs": [
    {
     "data": {
      "text/html": [
       "<div>\n",
       "<style scoped>\n",
       "    .dataframe tbody tr th:only-of-type {\n",
       "        vertical-align: middle;\n",
       "    }\n",
       "\n",
       "    .dataframe tbody tr th {\n",
       "        vertical-align: top;\n",
       "    }\n",
       "\n",
       "    .dataframe thead th {\n",
       "        text-align: right;\n",
       "    }\n",
       "</style>\n",
       "<table border=\"1\" class=\"dataframe\">\n",
       "  <thead>\n",
       "    <tr style=\"text-align: right;\">\n",
       "      <th>converted</th>\n",
       "      <th>False</th>\n",
       "      <th>True</th>\n",
       "    </tr>\n",
       "    <tr>\n",
       "      <th>logged_in</th>\n",
       "      <th></th>\n",
       "      <th></th>\n",
       "    </tr>\n",
       "  </thead>\n",
       "  <tbody>\n",
       "    <tr>\n",
       "      <th>False</th>\n",
       "      <td>16016</td>\n",
       "      <td>16274</td>\n",
       "    </tr>\n",
       "    <tr>\n",
       "      <th>True</th>\n",
       "      <td>27848</td>\n",
       "      <td>11305</td>\n",
       "    </tr>\n",
       "  </tbody>\n",
       "</table>\n",
       "</div>"
      ],
      "text/plain": [
       "converted  False   True\n",
       "logged_in              \n",
       "False      16016  16274\n",
       "True       27848  11305"
      ]
     },
     "execution_count": 124,
     "metadata": {},
     "output_type": "execute_result"
    }
   ],
   "source": [
    "ct_df = pd.crosstab(r_df['logged_in'], r_df['converted'])\n",
    "ct_df.head()"
   ]
  },
  {
   "cell_type": "code",
   "execution_count": 121,
   "id": "e19c71c0",
   "metadata": {},
   "outputs": [
    {
     "name": "stdout",
     "output_type": "stream",
     "text": [
      "- Pearson's chi-squared t-test:\n",
      "   - χ2 value: 3459.526\n",
      "   - p-value: 0.0000\n"
     ]
    }
   ],
   "source": [
    "ct_df = pd.crosstab(r_df['logged_in'], r_df['converted'])\n",
    "cont_table = ct_df.T\n",
    "\n",
    "chi2_val, p_val = stats.chi2_contingency(cont_table, correction=False)[:2]\n",
    "\n",
    "\n",
    "print(\"- Pearson's chi-squared t-test:\")\n",
    "print(f\"   - χ2 value: {chi2_val:.3f}\")\n",
    "print(f\"   - p-value: {p_val:.4f}\")"
   ]
  },
  {
   "cell_type": "markdown",
   "id": "ec4d3491",
   "metadata": {},
   "source": [
    "Wow, this is very counter-intuitive given that I didn't even know that you could make purchases without logging in. If I am reading this correctly, users who are **not logged in** will purchase within 2 days nearly 50.3\\% of the time, while users who are **logged in** only convert 28.8\\% of the time.\n",
    "\n",
    "I'm very curious to hear theories on why this might be the case."
   ]
  },
  {
   "cell_type": "markdown",
   "id": "b83085eb",
   "metadata": {},
   "source": [
    "## Let's look at conversion value now"
   ]
  },
  {
   "cell_type": "code",
   "execution_count": 132,
   "id": "05e29fca",
   "metadata": {},
   "outputs": [
    {
     "data": {
      "text/html": [
       "<div>\n",
       "<style scoped>\n",
       "    .dataframe tbody tr th:only-of-type {\n",
       "        vertical-align: middle;\n",
       "    }\n",
       "\n",
       "    .dataframe tbody tr th {\n",
       "        vertical-align: top;\n",
       "    }\n",
       "\n",
       "    .dataframe thead tr th {\n",
       "        text-align: left;\n",
       "    }\n",
       "\n",
       "    .dataframe thead tr:last-of-type th {\n",
       "        text-align: right;\n",
       "    }\n",
       "</style>\n",
       "<table border=\"1\" class=\"dataframe\">\n",
       "  <thead>\n",
       "    <tr>\n",
       "      <th></th>\n",
       "      <th colspan=\"2\" halign=\"left\">total_revenue</th>\n",
       "    </tr>\n",
       "    <tr>\n",
       "      <th></th>\n",
       "      <th>mean</th>\n",
       "      <th>std</th>\n",
       "    </tr>\n",
       "    <tr>\n",
       "      <th>logged_in</th>\n",
       "      <th></th>\n",
       "      <th></th>\n",
       "    </tr>\n",
       "  </thead>\n",
       "  <tbody>\n",
       "    <tr>\n",
       "      <th>False</th>\n",
       "      <td>198.552926</td>\n",
       "      <td>761.649680</td>\n",
       "    </tr>\n",
       "    <tr>\n",
       "      <th>True</th>\n",
       "      <td>157.095105</td>\n",
       "      <td>4111.807454</td>\n",
       "    </tr>\n",
       "  </tbody>\n",
       "</table>\n",
       "</div>"
      ],
      "text/plain": [
       "          total_revenue             \n",
       "                   mean          std\n",
       "logged_in                           \n",
       "False        198.552926   761.649680\n",
       "True         157.095105  4111.807454"
      ]
     },
     "execution_count": 132,
     "metadata": {},
     "output_type": "execute_result"
    }
   ],
   "source": [
    "conv_val_df = r_df.groupby('logged_in').agg({'total_revenue':['mean','std']})\n",
    "conv_val_df"
   ]
  },
  {
   "cell_type": "code",
   "execution_count": 134,
   "id": "867ae578",
   "metadata": {},
   "outputs": [
    {
     "name": "stdout",
     "output_type": "stream",
     "text": [
      "The logged in group spent an average of $41.46 less than the logged out group\n"
     ]
    }
   ],
   "source": [
    "total_rev_diff = conv_val_df.loc[True][('total_revenue','mean')] - conv_val_df.loc[False][('total_revenue','mean')]\n",
    "print(f'The logged in group spent an average of ${np.abs(total_rev_diff):.2f} less than the logged out group')"
   ]
  },
  {
   "cell_type": "code",
   "execution_count": 137,
   "id": "3acfd1fa",
   "metadata": {},
   "outputs": [
    {
     "name": "stdout",
     "output_type": "stream",
     "text": [
      "t-statistic = -1.95481\n",
      "p-value = 0.05061\n"
     ]
    }
   ],
   "source": [
    "treatment_group_rev = r_df[r_df['logged_in']==True]['total_revenue']\n",
    "control_group_rev =r_df[r_df['logged_in']==False]['total_revenue']\n",
    "\n",
    "t_stat, p_val = stats.ttest_ind(treatment_group_rev, control_group_rev, equal_var=False)\n",
    "print(f't-statistic = {t_stat:0.5f}')\n",
    "print(f'p-value = {p_val:0.5f}')"
   ]
  },
  {
   "cell_type": "markdown",
   "id": "a550ba62",
   "metadata": {},
   "source": [
    "Ok, so our logged out users are surely spending more money too. I'd be very curious to learn more about why logged out users spend so much more many and make so many more purchases than logged in users.\n",
    "* Are these impulse purchases?\n",
    "* Are there many vintage gear collectors who just don't want to make another account on another website, so they are holding out?"
   ]
  },
  {
   "cell_type": "markdown",
   "id": "1d62be48",
   "metadata": {},
   "source": [
    "In the future, I would love to take a look at the effect that the new tab feature has on these numbers."
   ]
  },
  {
   "cell_type": "markdown",
   "id": "42695172",
   "metadata": {},
   "source": [
    "# Final Recommendations\n",
    "\n",
    "In this analysis, I learned three main things:\n",
    "1. Implementing a change where clicking on new items will result in a new tab, the conversion rate increases by about 2\\%\n",
    "2. However, there doesn't seem to be a significant change in **conversion value**\n",
    "3. Users who are logged out seem to spend way more money\n",
    "\n",
    "In general, I would not recommend making this change. There is no evidence to support that it will result in higher revenue and the change in conversion rate is only 2\\%. That said, there may be reasons to care about conversion rate even when conversion value change is insignificant. Perhaps, we believe that just getting people out there and making purchases will increase the word of mouth traffic that gets more users to the site down the road. Personally, if this were the primary goal, I would want to implement a change that does better than 2\\% increase, but perhaps its one change among a battery of other changes that could achieve that.\n",
    "\n",
    "Thank you for this opportunity to play with the Reverb data. I had a lot of fun and learned a lot in the process!\n",
    "\n",
    "Cheers,\n",
    "Scott"
   ]
  }
 ],
 "metadata": {
  "kernelspec": {
   "display_name": "Python 3 (ipykernel)",
   "language": "python",
   "name": "python3"
  },
  "language_info": {
   "codemirror_mode": {
    "name": "ipython",
    "version": 3
   },
   "file_extension": ".py",
   "mimetype": "text/x-python",
   "name": "python",
   "nbconvert_exporter": "python",
   "pygments_lexer": "ipython3",
   "version": "3.8.3"
  }
 },
 "nbformat": 4,
 "nbformat_minor": 5
}
